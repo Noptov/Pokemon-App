{
 "cells": [
  {
   "cell_type": "code",
   "execution_count": 1,
   "metadata": {},
   "outputs": [
    {
     "name": "stderr",
     "output_type": "stream",
     "text": [
      "2022-06-01 19:18:14.216 INFO    numexpr.utils: Note: NumExpr detected 12 cores but \"NUMEXPR_MAX_THREADS\" not set, so enforcing safe limit of 8.\n",
      "2022-06-01 19:18:14.218 INFO    numexpr.utils: NumExpr defaulting to 8 threads.\n"
     ]
    }
   ],
   "source": [
    "import streamlit as st\n",
    "import pandas as pd\n",
    "import numpy as np\n",
    "import tensorflow as tf\n",
    "from tensorflow import keras\n",
    "from tensorflow.keras.applications.resnet50 import preprocess_input, decode_predictions\n",
    "from tensorflow.keras.preprocessing import image\n",
    "\n",
    "from PIL import Image"
   ]
  },
  {
   "cell_type": "code",
   "execution_count": 2,
   "metadata": {},
   "outputs": [
    {
     "data": {
      "text/plain": [
       "\"user_pic = st.file_uploader(label='Please upload your picture to identify what pokemon it is.',\\n                    type=['png', 'jpg']\""
      ]
     },
     "execution_count": 2,
     "metadata": {},
     "output_type": "execute_result"
    }
   ],
   "source": [
    "#st.title('Welcome to the Pokemon ID Project')\n",
    "\n",
    "type_model = tf.keras.models.load_model('Models/type_select_model')\n",
    "\n",
    "'''user_pic = st.file_uploader(label='Please upload your picture to identify what pokemon it is.',\n",
    "                    type=['png', 'jpg']'''"
   ]
  },
  {
   "cell_type": "code",
   "execution_count": 3,
   "metadata": {},
   "outputs": [],
   "source": [
    "def load_image(image_file):\n",
    "    img = Image.open(image_file)\n",
    "    img = img.resize((128, 128))\n",
    "    img = img.convert(\"RGB\")\n",
    "    return img"
   ]
  },
  {
   "cell_type": "code",
   "execution_count": 4,
   "metadata": {},
   "outputs": [],
   "source": [
    "class_names =['Bug',\n",
    " 'Dark',\n",
    " 'Dragon',\n",
    " 'Electric',\n",
    " 'Fairy',\n",
    " 'Fighting',\n",
    " 'Fire',\n",
    " 'Ghost',\n",
    " 'Grass',\n",
    " 'Ground',\n",
    " 'Ice',\n",
    " 'Normal',\n",
    " 'Poison',\n",
    " 'Psychic',\n",
    " 'Rock',\n",
    " 'Steel',\n",
    " 'Water']"
   ]
  },
  {
   "cell_type": "code",
   "execution_count": 5,
   "metadata": {},
   "outputs": [],
   "source": [
    "test_img = load_image('snorlax.png')"
   ]
  },
  {
   "cell_type": "code",
   "execution_count": 6,
   "metadata": {},
   "outputs": [
    {
     "data": {
      "image/png": "[encoded data removed]",
      "text/plain": [
       "<PIL.Image.Image image mode=RGB size=128x128>"
      ]
     },
     "execution_count": 6,
     "metadata": {},
     "output_type": "execute_result"
    }
   ],
   "source": [
    "test_img"
   ]
  },
  {
   "cell_type": "code",
   "execution_count": 19,
   "metadata": {},
   "outputs": [],
   "source": [
    "# https://towardsdatascience.com/how-to-predict-an-image-with-keras-ca97d9cd4817\n",
    "alt_test_img = image.load_img('Snorlax.png', target_size=(128, 128))\n",
    "alt_test_array = image.img_to_array(alt_test_img)\n",
    "alt_test_batch = np.expand_dims(alt_test_array, axis=0)"
   ]
  },
  {
   "cell_type": "code",
   "execution_count": 20,
   "metadata": {},
   "outputs": [
    {
     "name": "stdout",
     "output_type": "stream",
     "text": [
      "1/1 [==============================] - 0s 137ms/step\n"
     ]
    }
   ],
   "source": [
    "alt_test_pred = type_model.predict(alt_test_batch)"
   ]
  },
  {
   "cell_type": "code",
   "execution_count": 21,
   "metadata": {},
   "outputs": [
    {
     "data": {
      "text/plain": [
       "array([[-16.05719  , -27.299826 , -12.793409 ,  -4.6300344, -21.999765 ,\n",
       "        -18.348501 , -15.007192 , -19.116364 , -13.59043  , -22.352024 ,\n",
       "         -5.964155 ,  -0.6158684, -21.246473 , -10.803811 , -19.923069 ,\n",
       "        -23.755533 ,  -2.6595452]], dtype=float32)"
      ]
     },
     "execution_count": 21,
     "metadata": {},
     "output_type": "execute_result"
    }
   ],
   "source": [
    "alt_test_pred"
   ]
  },
  {
   "cell_type": "code",
   "execution_count": 23,
   "metadata": {},
   "outputs": [
    {
     "data": {
      "text/plain": [
       "'Normal'"
      ]
     },
     "execution_count": 23,
     "metadata": {},
     "output_type": "execute_result"
    }
   ],
   "source": [
    "class_names[np.argmax(alt_test_pred)]"
   ]
  },
  {
   "cell_type": "code",
   "execution_count": 9,
   "metadata": {},
   "outputs": [],
   "source": [
    "test_array3 = np.array(test_img)"
   ]
  },
  {
   "cell_type": "code",
   "execution_count": 10,
   "metadata": {},
   "outputs": [
    {
     "data": {
      "text/plain": [
       "(128, 128, 3)"
      ]
     },
     "execution_count": 10,
     "metadata": {},
     "output_type": "execute_result"
    }
   ],
   "source": [
    "test_array3.shape"
   ]
  },
  {
   "cell_type": "code",
   "execution_count": 11,
   "metadata": {},
   "outputs": [],
   "source": [
    "test_batch3 = np.expand_dims(test_array3, axis=0)"
   ]
  },
  {
   "cell_type": "code",
   "execution_count": 12,
   "metadata": {},
   "outputs": [
    {
     "data": {
      "text/plain": [
       "(1, 128, 128, 3)"
      ]
     },
     "execution_count": 12,
     "metadata": {},
     "output_type": "execute_result"
    }
   ],
   "source": [
    "test_batch3.shape"
   ]
  },
  {
   "cell_type": "code",
   "execution_count": 37,
   "metadata": {
    "scrolled": false
   },
   "outputs": [
    {
     "name": "stdout",
     "output_type": "stream",
     "text": [
      "1/1 [==============================] - 0s 21ms/step\n"
     ]
    }
   ],
   "source": [
    "test_pred = type_model.predict(test_batch3)"
   ]
  },
  {
   "cell_type": "code",
   "execution_count": 38,
   "metadata": {},
   "outputs": [
    {
     "data": {
      "text/plain": [
       "array([[-25.050861  , -28.009876  , -19.074108  ,   3.9626276 ,\n",
       "        -25.150757  , -22.00959   , -15.56798   , -11.588649  ,\n",
       "        -10.084192  , -10.0340805 , -17.50195   , -11.36906   ,\n",
       "        -16.870659  , -12.166667  , -14.671036  ,  -2.3662355 ,\n",
       "         -0.48166415]], dtype=float32)"
      ]
     },
     "execution_count": 38,
     "metadata": {},
     "output_type": "execute_result"
    }
   ],
   "source": [
    "test_pred"
   ]
  },
  {
   "cell_type": "code",
   "execution_count": 35,
   "metadata": {},
   "outputs": [
    {
     "data": {
      "text/plain": [
       "'Electric'"
      ]
     },
     "execution_count": 35,
     "metadata": {},
     "output_type": "execute_result"
    }
   ],
   "source": [
    "class_names[np.argmax(test_pred)]"
   ]
  },
  {
   "cell_type": "code",
   "execution_count": 63,
   "metadata": {},
   "outputs": [
    {
     "data": {
      "text/plain": [
       "11"
      ]
     },
     "execution_count": 63,
     "metadata": {},
     "output_type": "execute_result"
    }
   ],
   "source": [
    "np.argmax(test_pred)"
   ]
  },
  {
   "cell_type": "code",
   "execution_count": 25,
   "metadata": {},
   "outputs": [],
   "source": [
    "model_dict = {}\n",
    "for name in class_names:\n",
    "    model_dict[name] = tf.keras.models.load_model(f'models/{name}_model')"
   ]
  },
  {
   "cell_type": "code",
   "execution_count": 65,
   "metadata": {},
   "outputs": [
    {
     "data": {
      "text/plain": [
       "{'Bug': <keras.engine.sequential.Sequential at 0x152f88d2160>,\n",
       " 'Dark': <keras.engine.sequential.Sequential at 0x1520ea0b550>,\n",
       " 'Dragon': <keras.engine.sequential.Sequential at 0x152cd9ef340>,\n",
       " 'Electric': <keras.engine.sequential.Sequential at 0x15300a46820>,\n",
       " 'Fairy': <keras.engine.sequential.Sequential at 0x1531ceedc10>,\n",
       " 'Fighting': <keras.engine.sequential.Sequential at 0x1532ec3ef10>,\n",
       " 'Fire': <keras.engine.sequential.Sequential at 0x153385a38b0>,\n",
       " 'Ghost': <keras.engine.sequential.Sequential at 0x1535054e7f0>,\n",
       " 'Grass': <keras.engine.sequential.Sequential at 0x1535a80fbb0>,\n",
       " 'Ground': <keras.engine.sequential.Sequential at 0x15361a6c850>,\n",
       " 'Ice': <keras.engine.sequential.Sequential at 0x1536b44fca0>,\n",
       " 'Normal': <keras.engine.sequential.Sequential at 0x153780d1bb0>,\n",
       " 'Poison': <keras.engine.sequential.Sequential at 0x1537d1324c0>,\n",
       " 'Psychic': <keras.engine.sequential.Sequential at 0x15380bf8970>,\n",
       " 'Rock': <keras.engine.sequential.Sequential at 0x15380db1af0>,\n",
       " 'Steel': <keras.engine.sequential.Sequential at 0x1538ff1c820>,\n",
       " 'Water': <keras.engine.sequential.Sequential at 0x153911680a0>}"
      ]
     },
     "execution_count": 65,
     "metadata": {},
     "output_type": "execute_result"
    }
   ],
   "source": [
    "model_dict"
   ]
  },
  {
   "cell_type": "code",
   "execution_count": 26,
   "metadata": {},
   "outputs": [
    {
     "data": {
      "text/plain": [
       "<keras.engine.sequential.Sequential at 0x17fd4f7eca0>"
      ]
     },
     "execution_count": 26,
     "metadata": {},
     "output_type": "execute_result"
    }
   ],
   "source": [
    "ind_model = model_dict['Normal']\n",
    "ind_model"
   ]
  },
  {
   "cell_type": "code",
   "execution_count": 32,
   "metadata": {},
   "outputs": [
    {
     "name": "stdout",
     "output_type": "stream",
     "text": [
      "1/1 [==============================] - 0s 60ms/step\n"
     ]
    }
   ],
   "source": [
    "ind_pred = ind_model.predict(test_batch3)"
   ]
  },
  {
   "cell_type": "code",
   "execution_count": 27,
   "metadata": {},
   "outputs": [
    {
     "name": "stdout",
     "output_type": "stream",
     "text": [
      "1/1 [==============================] - 0s 66ms/step\n"
     ]
    }
   ],
   "source": [
    "alt_ind_pred = ind_model.predict(alt_test_batch)"
   ]
  },
  {
   "cell_type": "code",
   "execution_count": 105,
   "metadata": {},
   "outputs": [
    {
     "data": {
      "text/plain": [
       "array([[1.10616668e-07, 5.64178187e-14, 3.18987610e-08, 1.59080971e-10,\n",
       "        4.50863303e-16, 5.03813622e-23, 5.37677778e-21, 9.99982476e-01,\n",
       "        1.30618564e-21, 3.61159834e-23, 1.39037896e-22, 1.14275584e-24,\n",
       "        8.59497909e-22, 1.95830940e-17, 2.19961663e-28, 4.76274922e-11,\n",
       "        2.11608043e-25, 7.12770686e-25, 9.40250118e-08, 5.46677049e-19,\n",
       "        2.21234524e-16, 6.64651650e-25, 2.70772739e-24, 3.73296767e-18,\n",
       "        8.70758340e-14, 6.28456823e-17, 1.49534353e-24, 3.79959336e-22,\n",
       "        6.08058525e-15, 5.11928555e-10, 1.06392451e-21, 1.62013028e-24,\n",
       "        2.14434175e-33, 6.42102307e-25, 3.25376240e-21, 1.07306036e-18,\n",
       "        2.81626171e-06, 1.72832060e-17, 3.47748358e-11, 4.93167545e-21,\n",
       "        1.36701737e-15, 2.94478614e-18, 2.89141579e-15, 1.58729223e-16,\n",
       "        5.44374609e-22, 1.86920032e-19, 8.17496459e-10, 2.87020848e-21,\n",
       "        3.11150675e-14, 3.45058902e-32, 0.00000000e+00, 2.95602301e-15,\n",
       "        1.38256547e-17, 5.94762295e-10, 3.65911487e-20, 2.02454904e-22,\n",
       "        5.31063080e-21, 3.42396365e-14, 3.11619125e-19, 1.34581365e-11,\n",
       "        7.51714757e-30, 1.06776219e-37, 2.07333484e-22, 1.28219874e-12,\n",
       "        6.11214368e-30, 9.79313487e-17, 2.10391274e-15, 6.98262881e-23,\n",
       "        1.49557027e-26, 2.30187728e-33, 2.62203346e-20, 1.30284201e-28,\n",
       "        1.84328705e-31, 1.49994441e-14, 1.43237852e-19, 4.86999933e-14,\n",
       "        1.44153883e-05, 9.53960203e-17, 1.81847930e-31, 4.07007137e-13,\n",
       "        2.21462907e-20, 8.10931215e-27, 1.12668332e-25, 9.80091580e-23,\n",
       "        8.55702435e-16, 1.95001609e-21, 4.40382276e-30, 2.87484781e-18,\n",
       "        2.50644191e-20, 4.90988934e-18, 5.86221220e-20, 2.35831353e-21,\n",
       "        7.93989494e-17, 2.35941133e-21, 4.02776367e-18, 6.16255905e-27,\n",
       "        2.57603441e-25, 2.06443605e-26, 1.98022496e-14, 7.64130655e-27,\n",
       "        7.21879958e-25, 1.13628070e-21, 4.89357405e-22, 6.32938603e-26,\n",
       "        5.90524084e-19]], dtype=float32)"
      ]
     },
     "execution_count": 105,
     "metadata": {},
     "output_type": "execute_result"
    }
   ],
   "source": [
    "ind_pred"
   ]
  },
  {
   "cell_type": "code",
   "execution_count": 28,
   "metadata": {},
   "outputs": [],
   "source": [
    "pokemon_dict= pd.read_csv('data/pokemon_class_dict.csv', header=None, index_col=0).squeeze(\"columns\").to_dict()"
   ]
  },
  {
   "cell_type": "code",
   "execution_count": 29,
   "metadata": {},
   "outputs": [],
   "source": [
    "test_list = pokemon_dict['Normal'].split(',')"
   ]
  },
  {
   "cell_type": "code",
   "execution_count": 33,
   "metadata": {},
   "outputs": [
    {
     "data": {
      "text/plain": [
       "\" '143-Snorlax'\""
      ]
     },
     "execution_count": 33,
     "metadata": {},
     "output_type": "execute_result"
    }
   ],
   "source": [
    "test_list[np.argmax(ind_pred)]"
   ]
  },
  {
   "cell_type": "code",
   "execution_count": 34,
   "metadata": {},
   "outputs": [
    {
     "data": {
      "text/plain": [
       "\" '143-Snorlax'\""
      ]
     },
     "execution_count": 34,
     "metadata": {},
     "output_type": "execute_result"
    }
   ],
   "source": [
    "test_list[np.argmax(alt_ind_pred)]"
   ]
  },
  {
   "cell_type": "code",
   "execution_count": null,
   "metadata": {},
   "outputs": [],
   "source": []
  }
 ],
 "metadata": {
  "kernelspec": {
   "display_name": "Streamlit",
   "language": "python",
   "name": "streamlit"
  },
  "language_info": {
   "codemirror_mode": {
    "name": "ipython",
    "version": 3
   },
   "file_extension": ".py",
   "mimetype": "text/x-python",
   "name": "python",
   "nbconvert_exporter": "python",
   "pygments_lexer": "ipython3",
   "version": "3.9.12"
  }
 },
 "nbformat": 4,
 "nbformat_minor": 4
}
