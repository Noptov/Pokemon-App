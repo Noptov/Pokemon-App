{
 "cells": [
  {
   "cell_type": "code",
   "execution_count": 20,
   "metadata": {},
   "outputs": [],
   "source": [
    "import streamlit as st\n",
    "import pandas as pd\n",
    "import numpy as np\n",
    "import tensorflow as tf\n",
    "from tensorflow import keras\n",
    "from tensorflow.keras.applications.resnet50 import preprocess_input, decode_predictions\n",
    "from tensorflow.keras.preprocessing import image\n",
    "\n"
   ]
  },
  {
   "cell_type": "code",
   "execution_count": 6,
   "metadata": {},
   "outputs": [
    {
     "data": {
      "text/plain": [
       "\"user_pic = st.file_uploader(label='Please upload your picture to identify what pokemon it is.',\\n                    type=['png', 'jpg']\""
      ]
     },
     "execution_count": 6,
     "metadata": {},
     "output_type": "execute_result"
    }
   ],
   "source": [
    "#st.title('Welcome to the Pokemon ID Project')\n",
    "\n",
    "type_model = tf.keras.models.load_model('Models/type_select_model')\n",
    "\n",
    "'''user_pic = st.file_uploader(label='Please upload your picture to identify what pokemon it is.',\n",
    "                    type=['png', 'jpg']'''"
   ]
  },
  {
   "cell_type": "code",
   "execution_count": 37,
   "metadata": {},
   "outputs": [],
   "source": [
    "class_names =['Bug',\n",
    " 'Dark',\n",
    " 'Dragon',\n",
    " 'Electric',\n",
    " 'Fairy',\n",
    " 'Fighting',\n",
    " 'Fire',\n",
    " 'Ghost',\n",
    " 'Grass',\n",
    " 'Ground',\n",
    " 'Ice',\n",
    " 'Normal',\n",
    " 'Poison',\n",
    " 'Psychic',\n",
    " 'Rock',\n",
    " 'Steel',\n",
    " 'Water']"
   ]
  },
  {
   "cell_type": "code",
   "execution_count": 39,
   "metadata": {},
   "outputs": [],
   "source": [
    "test_img = image.load_img('snorlax.png')"
   ]
  },
  {
   "cell_type": "code",
   "execution_count": 60,
   "metadata": {},
   "outputs": [],
   "source": [
    "size = (128, 128)\n",
    "\n",
    "test_array2 = tf.keras.preprocessing.image.smart_resize(\n",
    "    test_img, size, interpolation='bilinear'\n",
    ")\n"
   ]
  },
  {
   "cell_type": "code",
   "execution_count": 44,
   "metadata": {},
   "outputs": [],
   "source": [
    "# https://towardsdatascience.com/how-to-predict-an-image-with-keras-ca97d9cd4817\n",
    "test_array = image.img_to_array(test_img)\n",
    "test_batch = np.expand_dims(test_array, axis=0)\n",
    "test_processed = preprocess_input(test_batch)"
   ]
  },
  {
   "cell_type": "code",
   "execution_count": 62,
   "metadata": {},
   "outputs": [],
   "source": [
    "test_batch2 = np.expand_dims(test_array2, axis=0)"
   ]
  },
  {
   "cell_type": "code",
   "execution_count": 56,
   "metadata": {
    "scrolled": false
   },
   "outputs": [
    {
     "name": "stdout",
     "output_type": "stream",
     "text": [
      "1/1 [==============================] - 0s 15ms/step\n"
     ]
    }
   ],
   "source": [
    "test_pred = type_model.predict(test_batch2)"
   ]
  },
  {
   "cell_type": "code",
   "execution_count": 57,
   "metadata": {},
   "outputs": [
    {
     "data": {
      "text/plain": [
       "array([[-16.53517   , -25.216461  , -14.401886  ,  -4.7377205 ,\n",
       "        -22.04383   , -18.852219  , -15.306234  , -21.327356  ,\n",
       "        -15.392989  , -22.10922   ,  -6.358653  ,  -0.8378429 ,\n",
       "        -20.455296  ,  -9.639179  , -19.083208  , -25.858372  ,\n",
       "         -0.94724965]], dtype=float32)"
      ]
     },
     "execution_count": 57,
     "metadata": {},
     "output_type": "execute_result"
    }
   ],
   "source": [
    "test_pred"
   ]
  },
  {
   "cell_type": "code",
   "execution_count": 58,
   "metadata": {},
   "outputs": [
    {
     "data": {
      "text/plain": [
       "'Normal'"
      ]
     },
     "execution_count": 58,
     "metadata": {},
     "output_type": "execute_result"
    }
   ],
   "source": [
    "class_names[np.argmax(test_pred)]"
   ]
  },
  {
   "cell_type": "code",
   "execution_count": 63,
   "metadata": {},
   "outputs": [
    {
     "data": {
      "text/plain": [
       "11"
      ]
     },
     "execution_count": 63,
     "metadata": {},
     "output_type": "execute_result"
    }
   ],
   "source": [
    "np.argmax(test_pred)"
   ]
  },
  {
   "cell_type": "code",
   "execution_count": null,
   "metadata": {},
   "outputs": [],
   "source": []
  }
 ],
 "metadata": {
  "kernelspec": {
   "display_name": "Streamlit",
   "language": "python",
   "name": "streamlit"
  },
  "language_info": {
   "codemirror_mode": {
    "name": "ipython",
    "version": 3
   },
   "file_extension": ".py",
   "mimetype": "text/x-python",
   "name": "python",
   "nbconvert_exporter": "python",
   "pygments_lexer": "ipython3",
   "version": "3.9.12"
  }
 },
 "nbformat": 4,
 "nbformat_minor": 4
}
